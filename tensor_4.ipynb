{
 "cells": [
  {
   "cell_type": "markdown",
   "metadata": {},
   "source": [
    "classification 실습 -> Logistic Regression과 성능비교"
   ]
  },
  {
   "cell_type": "code",
   "execution_count": 1,
   "metadata": {},
   "outputs": [],
   "source": [
    "import numpy as np\n",
    "import pandas as pd\n",
    "\n",
    "import torch\n",
    "import torch.nn as nn\n",
    "import torch.nn.functional as F\n",
    "import torch.optim as optim\n",
    "from torch.utils.data import Dataset\n",
    "from torch.utils.data import DataLoader\n",
    "\n",
    "import sklearn\n",
    "from sklearn.model_selection import train_test_split"
   ]
  },
  {
   "cell_type": "markdown",
   "metadata": {},
   "source": [
    "# 0. 데이터셋 불러온 후 전처리"
   ]
  },
  {
   "cell_type": "code",
   "execution_count": 6,
   "metadata": {},
   "outputs": [
    {
     "name": "stdout",
     "output_type": "stream",
     "text": [
      "    PassengerId  Survived  Pclass  \\\n",
      "1             2         1       1   \n",
      "3             4         1       1   \n",
      "6             7         0       1   \n",
      "10           11         1       3   \n",
      "11           12         1       1   \n",
      "\n",
      "                                                 Name     Sex   Age  SibSp  \\\n",
      "1   Cumings, Mrs. John Bradley (Florence Briggs Th...  female  38.0      1   \n",
      "3        Futrelle, Mrs. Jacques Heath (Lily May Peel)  female  35.0      1   \n",
      "6                             McCarthy, Mr. Timothy J    male  54.0      0   \n",
      "10                    Sandstrom, Miss. Marguerite Rut  female   4.0      1   \n",
      "11                           Bonnell, Miss. Elizabeth  female  58.0      0   \n",
      "\n",
      "    Parch    Ticket     Fare Cabin Embarked  \n",
      "1       0  PC 17599  71.2833   C85        C  \n",
      "3       0    113803  53.1000  C123        S  \n",
      "6       0     17463  51.8625   E46        S  \n",
      "10      1   PP 9549  16.7000    G6        S  \n",
      "11      0    113783  26.5500  C103        S  \n"
     ]
    }
   ],
   "source": [
    "#예제 데이터 불러오기\n",
    "data_url = pd.read_csv(\"https://raw.githubusercontent.com/StillWork/data/master/titanic_train.csv\")\n",
    "\n",
    "#데이터 전처리\n",
    "data_url = data_url.dropna() #결측값(잘못된 값) 제거\n",
    "\n",
    "print(data_url.head())\n",
    "\n",
    "#col, row에서 의미있는 값 먼저 추출\n",
    "X = data_url[[\"Pclass\", \"Sex\", \"Age\", \"Fare\"]]\n",
    "Y = data_url[\"Survived\"]\n",
    "\n",
    "#데이터를 딥러닝에 사용가능하도록 One-Hot Encoding하기-> Sex항목을 Male/Female로 나누는과정\n",
    "#Sex항목이 '범주형' 자료이기에 이를 숫자형 자료로 바꾸는 One-Hot encoding적용\n",
    "X = pd.get_dummies(X, columns=[\"Sex\"], dtype='int').values\n",
    "Y = Y.values #values를 적용하면 numpy형태로 자료형이 바뀜\n",
    "\n",
    "#훈련용/평가용 데이터로 나누기\n",
    "X_train, X_test, Y_train, Y_test = train_test_split(X, Y, test_size=0.2)"
   ]
  },
  {
   "cell_type": "code",
   "execution_count": 5,
   "metadata": {},
   "outputs": [
    {
     "name": "stdout",
     "output_type": "stream",
     "text": [
      "[[ 1.     38.     90.      0.      1.    ]\n",
      " [ 2.     36.5    26.      0.      1.    ]\n",
      " [ 1.     37.     52.5542  0.      1.    ]\n",
      " [ 1.     24.     49.5042  1.      0.    ]\n",
      " [ 1.     45.     83.475   0.      1.    ]]\n",
      "[1 0 1 1 0]\n"
     ]
    }
   ],
   "source": [
    "#코드가 잘 나뉘어졌는지 확인해보자\n",
    "print(X_train[:5])\n",
    "print(Y_train[:5])"
   ]
  },
  {
   "cell_type": "markdown",
   "metadata": {},
   "source": [
    "# 1. Logistic Regression으로 고전 분석 해보기"
   ]
  },
  {
   "cell_type": "code",
   "execution_count": 7,
   "metadata": {},
   "outputs": [
    {
     "data": {
      "text/html": [
       "<style>#sk-container-id-1 {color: black;}#sk-container-id-1 pre{padding: 0;}#sk-container-id-1 div.sk-toggleable {background-color: white;}#sk-container-id-1 label.sk-toggleable__label {cursor: pointer;display: block;width: 100%;margin-bottom: 0;padding: 0.3em;box-sizing: border-box;text-align: center;}#sk-container-id-1 label.sk-toggleable__label-arrow:before {content: \"▸\";float: left;margin-right: 0.25em;color: #696969;}#sk-container-id-1 label.sk-toggleable__label-arrow:hover:before {color: black;}#sk-container-id-1 div.sk-estimator:hover label.sk-toggleable__label-arrow:before {color: black;}#sk-container-id-1 div.sk-toggleable__content {max-height: 0;max-width: 0;overflow: hidden;text-align: left;background-color: #f0f8ff;}#sk-container-id-1 div.sk-toggleable__content pre {margin: 0.2em;color: black;border-radius: 0.25em;background-color: #f0f8ff;}#sk-container-id-1 input.sk-toggleable__control:checked~div.sk-toggleable__content {max-height: 200px;max-width: 100%;overflow: auto;}#sk-container-id-1 input.sk-toggleable__control:checked~label.sk-toggleable__label-arrow:before {content: \"▾\";}#sk-container-id-1 div.sk-estimator input.sk-toggleable__control:checked~label.sk-toggleable__label {background-color: #d4ebff;}#sk-container-id-1 div.sk-label input.sk-toggleable__control:checked~label.sk-toggleable__label {background-color: #d4ebff;}#sk-container-id-1 input.sk-hidden--visually {border: 0;clip: rect(1px 1px 1px 1px);clip: rect(1px, 1px, 1px, 1px);height: 1px;margin: -1px;overflow: hidden;padding: 0;position: absolute;width: 1px;}#sk-container-id-1 div.sk-estimator {font-family: monospace;background-color: #f0f8ff;border: 1px dotted black;border-radius: 0.25em;box-sizing: border-box;margin-bottom: 0.5em;}#sk-container-id-1 div.sk-estimator:hover {background-color: #d4ebff;}#sk-container-id-1 div.sk-parallel-item::after {content: \"\";width: 100%;border-bottom: 1px solid gray;flex-grow: 1;}#sk-container-id-1 div.sk-label:hover label.sk-toggleable__label {background-color: #d4ebff;}#sk-container-id-1 div.sk-serial::before {content: \"\";position: absolute;border-left: 1px solid gray;box-sizing: border-box;top: 0;bottom: 0;left: 50%;z-index: 0;}#sk-container-id-1 div.sk-serial {display: flex;flex-direction: column;align-items: center;background-color: white;padding-right: 0.2em;padding-left: 0.2em;position: relative;}#sk-container-id-1 div.sk-item {position: relative;z-index: 1;}#sk-container-id-1 div.sk-parallel {display: flex;align-items: stretch;justify-content: center;background-color: white;position: relative;}#sk-container-id-1 div.sk-item::before, #sk-container-id-1 div.sk-parallel-item::before {content: \"\";position: absolute;border-left: 1px solid gray;box-sizing: border-box;top: 0;bottom: 0;left: 50%;z-index: -1;}#sk-container-id-1 div.sk-parallel-item {display: flex;flex-direction: column;z-index: 1;position: relative;background-color: white;}#sk-container-id-1 div.sk-parallel-item:first-child::after {align-self: flex-end;width: 50%;}#sk-container-id-1 div.sk-parallel-item:last-child::after {align-self: flex-start;width: 50%;}#sk-container-id-1 div.sk-parallel-item:only-child::after {width: 0;}#sk-container-id-1 div.sk-dashed-wrapped {border: 1px dashed gray;margin: 0 0.4em 0.5em 0.4em;box-sizing: border-box;padding-bottom: 0.4em;background-color: white;}#sk-container-id-1 div.sk-label label {font-family: monospace;font-weight: bold;display: inline-block;line-height: 1.2em;}#sk-container-id-1 div.sk-label-container {text-align: center;}#sk-container-id-1 div.sk-container {/* jupyter's `normalize.less` sets `[hidden] { display: none; }` but bootstrap.min.css set `[hidden] { display: none !important; }` so we also need the `!important` here to be able to override the default hidden behavior on the sphinx rendered scikit-learn.org. See: https://github.com/scikit-learn/scikit-learn/issues/21755 */display: inline-block !important;position: relative;}#sk-container-id-1 div.sk-text-repr-fallback {display: none;}</style><div id=\"sk-container-id-1\" class=\"sk-top-container\"><div class=\"sk-text-repr-fallback\"><pre>LogisticRegression()</pre><b>In a Jupyter environment, please rerun this cell to show the HTML representation or trust the notebook. <br />On GitHub, the HTML representation is unable to render, please try loading this page with nbviewer.org.</b></div><div class=\"sk-container\" hidden><div class=\"sk-item\"><div class=\"sk-estimator sk-toggleable\"><input class=\"sk-toggleable__control sk-hidden--visually\" id=\"sk-estimator-id-1\" type=\"checkbox\" checked><label for=\"sk-estimator-id-1\" class=\"sk-toggleable__label sk-toggleable__label-arrow\">LogisticRegression</label><div class=\"sk-toggleable__content\"><pre>LogisticRegression()</pre></div></div></div></div></div>"
      ],
      "text/plain": [
       "LogisticRegression()"
      ]
     },
     "execution_count": 7,
     "metadata": {},
     "output_type": "execute_result"
    }
   ],
   "source": [
    "from sklearn.linear_model import LogisticRegression\n",
    "\n",
    "LR_model = LogisticRegression()\n",
    "\n",
    "LR_model.fit(X_train, Y_train)\n",
    "#해당 모듈은 매우 잘 만들어져서 위 코드로 학습이 끝낫음...."
   ]
  },
  {
   "cell_type": "markdown",
   "metadata": {},
   "source": [
    "# 2. 딥러닝 하기 -> Neural Network(FC Layers)"
   ]
  },
  {
   "cell_type": "code",
   "execution_count": 44,
   "metadata": {},
   "outputs": [],
   "source": [
    "#명세서에 나와있는 모델 설계하기\n",
    "#input은 5개, output는 2개\n",
    "#레이어 3개 만들며, (5,10) -> ReLU -> (10,5) -> ReLU -> (5, 2) -> Softmax\n",
    "\n",
    "#첫번째로 딥러닝용 데이터셋 전처리 하기\n",
    "class My_Titanic_Dataset(Dataset):\n",
    "    def __init__(self, x_data, y_data): #생성자 및 데이터 자료형 변경\n",
    "        self.x_data = torch.tensor(x_data, dtype=torch.float32)\n",
    "        self.y_data = torch.tensor(y_data, dtype=torch.long)\n",
    "\n",
    "    def __getitem__(self, index): #위치에 있는 값을 호출하는 메서드 함수\n",
    "        return self.x_data[index], self.y_data[index]\n",
    "    \n",
    "    def __len__(self): #전체 데이터 사이즈를 측정하는 메서드 함수\n",
    "        return self.x_data.shape[0]\n",
    "    \n",
    "dataset = My_Titanic_Dataset(X_train, Y_train)"
   ]
  },
  {
   "cell_type": "code",
   "execution_count": 43,
   "metadata": {},
   "outputs": [],
   "source": [
    "#딥러닝 모델 설계하기\n",
    "\n",
    "class My_classification_Model(nn.Module):\n",
    "    def __init__(self):\n",
    "        super().__init__()\n",
    "\n",
    "        self.fc1 = nn.Linear(in_features=5, out_features=10)\n",
    "        self.fc2 = nn.Linear(in_features=10, out_features=5)\n",
    "        self.fc3 = nn.Linear(in_features=5, out_features=2)\n",
    "\n",
    "    def forward(self, x): #레이어 전사 설계\n",
    "        x = self.fc1(x)\n",
    "        x = F.relu(x)  #위 두문장을 하나로 쓰려면 x = F.relu(self.fc1(x))\n",
    "\n",
    "        x = self.fc2(x)\n",
    "        x = F.relu(x)\n",
    "\n",
    "        x = self.fc3(x)\n",
    "        return x\n",
    "    \n",
    "#모델 인스턴스화\n",
    "ex_model = My_classification_Model()"
   ]
  },
  {
   "cell_type": "code",
   "execution_count": 45,
   "metadata": {},
   "outputs": [],
   "source": [
    "#Loss Function 및 Optimizer 선언하기\n",
    "\n",
    "Loss_fn = nn.CrossEntropyLoss() #CEL을 써서 변수명을 criterion이라 하기도함?\n",
    "Optimizer = torch.optim.Adam(ex_model.parameters(), lr=0.001)"
   ]
  },
  {
   "cell_type": "code",
   "execution_count": 46,
   "metadata": {},
   "outputs": [],
   "source": [
    "#앞에서 전처리한 raw데이터를 딥러닝용 데이터로 전처리 수행하기\n",
    "#Batch 사이즈는 10으로 설정해서 딥러닝용 데이터로 처리한다.\n",
    "\n",
    "dataloader = torch.utils.data.DataLoader(dataset, batch_size=10, shuffle=True)"
   ]
  },
  {
   "cell_type": "code",
   "execution_count": 47,
   "metadata": {},
   "outputs": [
    {
     "name": "stderr",
     "output_type": "stream",
     "text": [
      " 15%|█▌        | 15/100 [00:00<00:02, 41.25it/s]"
     ]
    },
    {
     "name": "stdout",
     "output_type": "stream",
     "text": [
      "에포크 : 10, 배치 : 10, 로스결과 : 0.6234\n"
     ]
    },
    {
     "name": "stderr",
     "output_type": "stream",
     "text": [
      " 24%|██▍       | 24/100 [00:00<00:02, 33.59it/s]"
     ]
    },
    {
     "name": "stdout",
     "output_type": "stream",
     "text": [
      "에포크 : 20, 배치 : 10, 로스결과 : 0.4163\n"
     ]
    },
    {
     "name": "stderr",
     "output_type": "stream",
     "text": [
      " 32%|███▏      | 32/100 [00:01<00:02, 27.07it/s]"
     ]
    },
    {
     "name": "stdout",
     "output_type": "stream",
     "text": [
      "에포크 : 30, 배치 : 10, 로스결과 : 0.5045\n"
     ]
    },
    {
     "name": "stderr",
     "output_type": "stream",
     "text": [
      " 44%|████▍     | 44/100 [00:01<00:02, 22.51it/s]"
     ]
    },
    {
     "name": "stdout",
     "output_type": "stream",
     "text": [
      "에포크 : 40, 배치 : 10, 로스결과 : 0.3367\n"
     ]
    },
    {
     "name": "stderr",
     "output_type": "stream",
     "text": [
      " 53%|█████▎    | 53/100 [00:02<00:02, 19.75it/s]"
     ]
    },
    {
     "name": "stdout",
     "output_type": "stream",
     "text": [
      "에포크 : 50, 배치 : 10, 로스결과 : 0.5113\n"
     ]
    },
    {
     "name": "stderr",
     "output_type": "stream",
     "text": [
      " 62%|██████▏   | 62/100 [00:02<00:01, 19.34it/s]"
     ]
    },
    {
     "name": "stdout",
     "output_type": "stream",
     "text": [
      "에포크 : 60, 배치 : 10, 로스결과 : 0.4646\n"
     ]
    },
    {
     "name": "stderr",
     "output_type": "stream",
     "text": [
      " 72%|███████▏  | 72/100 [00:03<00:01, 20.25it/s]"
     ]
    },
    {
     "name": "stdout",
     "output_type": "stream",
     "text": [
      "에포크 : 70, 배치 : 10, 로스결과 : 0.4635\n"
     ]
    },
    {
     "name": "stderr",
     "output_type": "stream",
     "text": [
      " 84%|████████▍ | 84/100 [00:03<00:00, 23.43it/s]"
     ]
    },
    {
     "name": "stdout",
     "output_type": "stream",
     "text": [
      "에포크 : 80, 배치 : 10, 로스결과 : 0.5469\n"
     ]
    },
    {
     "name": "stderr",
     "output_type": "stream",
     "text": [
      " 93%|█████████▎| 93/100 [00:04<00:00, 20.03it/s]"
     ]
    },
    {
     "name": "stdout",
     "output_type": "stream",
     "text": [
      "에포크 : 90, 배치 : 10, 로스결과 : 0.4388\n"
     ]
    },
    {
     "name": "stderr",
     "output_type": "stream",
     "text": [
      "100%|██████████| 100/100 [00:04<00:00, 22.84it/s]"
     ]
    },
    {
     "name": "stdout",
     "output_type": "stream",
     "text": [
      "에포크 : 100, 배치 : 10, 로스결과 : 0.3605\n"
     ]
    },
    {
     "name": "stderr",
     "output_type": "stream",
     "text": [
      "\n"
     ]
    }
   ],
   "source": [
    "#CPU로 학습기 돌려보기\n",
    "#시간 측정을 위한 모듈로 tqdm을 추가한다\n",
    "from tqdm import tqdm\n",
    "\n",
    "losses = [] #아래 학습된 값들 시각화 하려고 미리 빼둔 변수임\n",
    "\n",
    "for epoch in tqdm(range(100)):\n",
    "    for i, (x, y) in enumerate(dataloader):\n",
    "        #Forward(전사)과정\n",
    "        y_pred = ex_model(x)\n",
    "        loss = Loss_fn(y_pred, y)\n",
    "        losses.append(loss.item())\n",
    "\n",
    "        #Backward 과정\n",
    "        Optimizer.zero_grad() #옵티마이저 초기화\n",
    "        loss.backward()\n",
    "\n",
    "        Optimizer.step() #모델 파라미터 업데이트\n",
    "\n",
    "        #여기부터는 딥러닝 10번째 데이터마다 훈련과정을 보기 위한 작업이라 보면 됨\n",
    "        if (epoch+1) % 10 == 0 and (i % 10 == 0 and i != 0):\n",
    "            print(\"에포크 : %d, 배치 : %d, 로스결과 : %.4f\" % (epoch+1, i, loss.item()))"
   ]
  },
  {
   "cell_type": "code",
   "execution_count": 48,
   "metadata": {},
   "outputs": [
    {
     "data": {
      "image/png": "[encoded data removed]",
      "text/plain": [
       "<Figure size 640x480 with 1 Axes>"
      ]
     },
     "metadata": {},
     "output_type": "display_data"
    }
   ],
   "source": [
    "#학습된 값들을 시각화 해보자\n",
    "import matplotlib.pyplot as plt\n",
    "\n",
    "plt.plot(losses)\n",
    "plt.xlabel('Iteration')\n",
    "plt.ylabel(\"Loss\")\n",
    "plt.show() #이게 Loss를 minimize해야 하는것이 목표이기에 갈수록 값이 0으로 떨어져야 정상임\n",
    "#다시 돌리니까 수렴은 하긴 함... #근데 좀 이상한데 ㅋㅋㅋㅋ..."
   ]
  },
  {
   "cell_type": "markdown",
   "metadata": {},
   "source": [
    "# 3. 모델 평가히기 </br>\n",
    "(LR모델이랑 NN모델 평가 수행)"
   ]
  },
  {
   "cell_type": "code",
   "execution_count": 50,
   "metadata": {},
   "outputs": [
    {
     "name": "stdout",
     "output_type": "stream",
     "text": [
      "정확도(Accuracy) :  0.8108108108108109\n",
      "정밀도(Precision) :  0.76\n",
      "재현율(Recall) :  0.95\n",
      "조화평균(f1) :  0.8444444444444444\n",
      "              precision    recall  f1-score   support\n",
      "\n",
      "           0       0.92      0.65      0.76        17\n",
      "           1       0.76      0.95      0.84        20\n",
      "\n",
      "    accuracy                           0.81        37\n",
      "   macro avg       0.84      0.80      0.80        37\n",
      "weighted avg       0.83      0.81      0.81        37\n",
      "\n"
     ]
    }
   ],
   "source": [
    "#LR모델(Logistic Regression Model)평가를 위한 코드\n",
    "\n",
    "from sklearn.metrics import accuracy_score, f1_score, recall_score, precision_score, classification_report\n",
    "\n",
    "Y_pred = LR_model.predict(X_test)\n",
    "\n",
    "print(\"정확도(Accuracy) : \", accuracy_score(Y_pred, Y_test))\n",
    "print(\"정밀도(Precision) : \", precision_score(Y_pred, Y_test))\n",
    "print(\"재현율(Recall) : \", recall_score(Y_pred, Y_test))\n",
    "print(\"조화평균(f1) : \", f1_score(Y_pred, Y_test))\n",
    "\n",
    "print(classification_report(Y_pred, Y_test))"
   ]
  },
  {
   "cell_type": "code",
   "execution_count": 51,
   "metadata": {},
   "outputs": [
    {
     "name": "stdout",
     "output_type": "stream",
     "text": [
      "정확도(Accuracy) :  0.7297297297297297\n",
      "정밀도(Precision) :  0.84\n",
      "재현율(Recall) :  0.7777777777777778\n",
      "조화평균(f1) :  0.8076923076923077\n",
      "              precision    recall  f1-score   support\n",
      "\n",
      "           0       0.50      0.60      0.55        10\n",
      "           1       0.84      0.78      0.81        27\n",
      "\n",
      "    accuracy                           0.73        37\n",
      "   macro avg       0.67      0.69      0.68        37\n",
      "weighted avg       0.75      0.73      0.74        37\n",
      "\n"
     ]
    },
    {
     "name": "stderr",
     "output_type": "stream",
     "text": [
      "C:\\Users\\Z13_ASH\\AppData\\Local\\Temp\\ipykernel_52716\\2711436867.py:9: UserWarning: Creating a tensor from a list of numpy.ndarrays is extremely slow. Please consider converting the list to a single numpy.ndarray with numpy.array() before converting to a tensor. (Triggered internally at C:\\actions-runner\\_work\\pytorch\\pytorch\\builder\\windows\\pytorch\\torch\\csrc\\utils\\tensor_new.cpp:277.)\n",
      "  outputs = ex_model(torch.tensor([x], dtype=torch.float32))\n"
     ]
    }
   ],
   "source": [
    "#딥러닝 (nn)모델의 평가를 위한 코드\n",
    "\n",
    "NN_Y_pred = []\n",
    "\n",
    "#딥러닝 결과값은 tensor자료형이니 numpy로 바꿔줘야함\n",
    "\n",
    "#일단 model.eval()이랑 같은 기능을 하는 구문임...\n",
    "with torch.no_grad(): #이거는 model.eval()이랑 좀 확인해봐야 하는 것임...\n",
    "    for x, y in zip(X_test, Y_test):\n",
    "        outputs = ex_model(torch.tensor([x], dtype=torch.float32))\n",
    "        _, predicted = torch.max(outputs.data, 1)\n",
    "        NN_Y_pred.append(predicted.detach().cpu().item())\n",
    "\n",
    "print(\"정확도(Accuracy) : \", accuracy_score(NN_Y_pred, Y_test))\n",
    "print(\"정밀도(Precision) : \", precision_score(NN_Y_pred, Y_test))\n",
    "print(\"재현율(Recall) : \", recall_score(NN_Y_pred, Y_test))\n",
    "print(\"조화평균(f1) : \", f1_score(NN_Y_pred, Y_test))\n",
    "\n",
    "print(classification_report(NN_Y_pred, Y_test))"
   ]
  }
 ],
 "metadata": {
  "kernelspec": {
   "display_name": "Python 3",
   "language": "python",
   "name": "python3"
  },
  "language_info": {
   "codemirror_mode": {
    "name": "ipython",
    "version": 3
   },
   "file_extension": ".py",
   "mimetype": "text/x-python",
   "name": "python",
   "nbconvert_exporter": "python",
   "pygments_lexer": "ipython3",
   "version": "3.8.10"
  }
 },
 "nbformat": 4,
 "nbformat_minor": 2
}
