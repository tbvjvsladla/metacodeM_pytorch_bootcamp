{
 "cells": [
  {
   "cell_type": "markdown",
   "metadata": {},
   "source": [
    "# RNN(LSTM) 실습해보기"
   ]
  },
  {
   "cell_type": "code",
   "execution_count": 85,
   "metadata": {},
   "outputs": [],
   "source": [
    "#필요 모듈 import\n",
    "import numpy as np\n",
    "import pandas as pd\n",
    "\n",
    "import torch\n",
    "import torch.nn as nn\n",
    "import torch.nn.functional as F\n",
    "from torch.utils.data import TensorDataset, DataLoader\n",
    "\n",
    "import sklearn\n",
    "from sklearn.preprocessing import StandardScaler\n",
    "from sklearn.metrics import mean_squared_error\n",
    "\n",
    "from tqdm import tqdm"
   ]
  },
  {
   "cell_type": "code",
   "execution_count": 86,
   "metadata": {},
   "outputs": [],
   "source": [
    "#시드 고정 코드 블럭은 넘어가자"
   ]
  },
  {
   "cell_type": "markdown",
   "metadata": {},
   "source": [
    "## 1. RNN 레이어 "
   ]
  },
  {
   "cell_type": "code",
   "execution_count": 87,
   "metadata": {},
   "outputs": [
    {
     "name": "stdout",
     "output_type": "stream",
     "text": [
      "\n",
      "Actual values:\n",
      "weight_ih_l0: torch.Size([10, 3])\n",
      "weight_hh_l0: torch.Size([10, 10])\n",
      "bias_ih_l0: torch.Size([10])\n",
      "bias_hh_l0: torch.Size([10])\n"
     ]
    }
   ],
   "source": [
    "#input 텐서 선언\n",
    "# input = torch.ones(5, 3) #seq_size(일련된 데이터 개수), input_dim(입력 개수)\n",
    "#위에 뜻은 순서를 가진 5개의 데이터 묶음을 3개씩 던진다는 것임\n",
    "input = torch.ones(11, 5, 3) #3차원이면 앞에것은 batch_size\n",
    "# print(input)\n",
    "\n",
    "\n",
    "#RNN 레이어 선언\n",
    "# rnn_layer = nn.RNN(input_size=3, hidden_size=10) #셀이 10개짜리 RNN선언\n",
    "rnn_layer = nn.RNN(input_size=3, hidden_size=10, batch_first=True)\n",
    "#batch_first 옵션은 만약 input 데이터가 3차원일 때 batch_size를 먼저 쓰니까\n",
    "#True로 바꿔줘야함 -> 이거 False로 하면 순서 꼬임\n",
    "\n",
    "#선언한 RNN레이어 구조 확인하기\n",
    "print(\"\\nActual values:\")\n",
    "print(\"weight_ih_l0:\", rnn_layer.weight_ih_l0.data.shape)\n",
    "print(\"weight_hh_l0:\", rnn_layer.weight_hh_l0.data.shape)\n",
    "print(\"bias_ih_l0:\", rnn_layer.bias_ih_l0.data.shape)\n",
    "print(\"bias_hh_l0:\", rnn_layer.bias_hh_l0.data.shape)"
   ]
  },
  {
   "cell_type": "code",
   "execution_count": 88,
   "metadata": {},
   "outputs": [
    {
     "name": "stdout",
     "output_type": "stream",
     "text": [
      "torch.Size([11, 5, 10])\n",
      "torch.Size([1, 11, 10])\n"
     ]
    }
   ],
   "source": [
    "#output 출력 확인해보기\n",
    "output, hidden = rnn_layer(input) #임의의 input텐서 자료형을 rnn레이어로 통과시켜봄\n",
    "\n",
    "print(output.shape) #배치사이즈, 히든 아웃풋 차원\n",
    "print(hidden.shape)"
   ]
  },
  {
   "cell_type": "markdown",
   "metadata": {},
   "source": [
    "# 2. LSTM 레이어 </br>\n",
    "RNN은 개론만 잠깐 보고 실제 시계열 데이터 다룰때는 LSTM을 대중적으로 씀"
   ]
  },
  {
   "cell_type": "code",
   "execution_count": 89,
   "metadata": {},
   "outputs": [
    {
     "name": "stdout",
     "output_type": "stream",
     "text": [
      "\n",
      "Actual values:\n",
      "weight_ih_l0: torch.Size([40, 3])\n",
      "weight_hh_l0: torch.Size([40, 10])\n",
      "bias_ih_l0: torch.Size([40])\n",
      "bias_hh_l0: torch.Size([40])\n"
     ]
    }
   ],
   "source": [
    "#입력 텐서 정의\n",
    "input = torch.ones(7, 3)\n",
    "input_batch = torch.ones(11, 7, 3)\n",
    "\n",
    "#레이어 정의\n",
    "lstm_layer = nn.LSTM(input_size=3, hidden_size=10)\n",
    "lstm_layer_batch = nn.LSTM(input_size=3, hidden_size=10, batch_first=True)\n",
    "\n",
    "#선언한 LSTM레이어 구조 확인하기\n",
    "print(\"\\nActual values:\")\n",
    "#여기서 hidden_size * 4한 값이 hidden state의 파라미터 종류가 되버림\n",
    "#LSTM은 cell의 게이트 종류가 4개라서 4배 뻥튀기됨\n",
    "print(\"weight_ih_l0:\", lstm_layer_batch.weight_ih_l0.data.shape) #\n",
    "print(\"weight_hh_l0:\", lstm_layer_batch.weight_hh_l0.data.shape)\n",
    "print(\"bias_ih_l0:\", lstm_layer_batch.bias_ih_l0.data.shape)\n",
    "print(\"bias_hh_l0:\", lstm_layer_batch.bias_hh_l0.data.shape)"
   ]
  },
  {
   "cell_type": "code",
   "execution_count": 90,
   "metadata": {},
   "outputs": [
    {
     "name": "stdout",
     "output_type": "stream",
     "text": [
      "torch.Size([11, 7, 10])\n",
      "torch.Size([1, 11, 10])\n",
      "torch.Size([1, 11, 10])\n"
     ]
    }
   ],
   "source": [
    "#output 출력 해보기\n",
    "output, (hidden, cell) = lstm_layer(input)\n",
    "\n",
    "output_batch, (hidden_batch, cell_batch) = lstm_layer_batch(input_batch)\n",
    "\n",
    "print(output_batch.shape) #배치사이즈, 히든 아웃풋 차원\n",
    "print(hidden_batch.shape)\n",
    "print(cell_batch.shape)"
   ]
  },
  {
   "cell_type": "markdown",
   "metadata": {},
   "source": [
    "# 3. 시계열 데이터(주식)를 LSTM으로 학습하기 </br>\n",
    "데이터셋은 웹 크롤링 방식으로 가져온다."
   ]
  },
  {
   "cell_type": "code",
   "execution_count": 91,
   "metadata": {},
   "outputs": [
    {
     "name": "stderr",
     "output_type": "stream",
     "text": [
      "  0%|          | 0/99 [00:00<?, ?it/s]"
     ]
    },
    {
     "name": "stderr",
     "output_type": "stream",
     "text": [
      "100%|██████████| 99/99 [00:04<00:00, 21.56it/s]\n"
     ]
    },
    {
     "data": {
      "text/html": [
       "<div>\n",
       "<style scoped>\n",
       "    .dataframe tbody tr th:only-of-type {\n",
       "        vertical-align: middle;\n",
       "    }\n",
       "\n",
       "    .dataframe tbody tr th {\n",
       "        vertical-align: top;\n",
       "    }\n",
       "\n",
       "    .dataframe thead th {\n",
       "        text-align: right;\n",
       "    }\n",
       "</style>\n",
       "<table border=\"1\" class=\"dataframe\">\n",
       "  <thead>\n",
       "    <tr style=\"text-align: right;\">\n",
       "      <th></th>\n",
       "      <th>날짜</th>\n",
       "      <th>종가</th>\n",
       "      <th>전일비</th>\n",
       "      <th>시가</th>\n",
       "      <th>고가</th>\n",
       "      <th>저가</th>\n",
       "      <th>거래량</th>\n",
       "    </tr>\n",
       "  </thead>\n",
       "  <tbody>\n",
       "    <tr>\n",
       "      <th>0</th>\n",
       "      <td>NaN</td>\n",
       "      <td>NaN</td>\n",
       "      <td>NaN</td>\n",
       "      <td>NaN</td>\n",
       "      <td>NaN</td>\n",
       "      <td>NaN</td>\n",
       "      <td>NaN</td>\n",
       "    </tr>\n",
       "    <tr>\n",
       "      <th>1</th>\n",
       "      <td>2024.04.29</td>\n",
       "      <td>76700.0</td>\n",
       "      <td>보합0</td>\n",
       "      <td>77400.0</td>\n",
       "      <td>77600.0</td>\n",
       "      <td>76200.0</td>\n",
       "      <td>14249224.0</td>\n",
       "    </tr>\n",
       "    <tr>\n",
       "      <th>2</th>\n",
       "      <td>2024.04.26</td>\n",
       "      <td>76700.0</td>\n",
       "      <td>상승  400</td>\n",
       "      <td>77800.0</td>\n",
       "      <td>77900.0</td>\n",
       "      <td>76500.0</td>\n",
       "      <td>12755629.0</td>\n",
       "    </tr>\n",
       "    <tr>\n",
       "      <th>3</th>\n",
       "      <td>2024.04.25</td>\n",
       "      <td>76300.0</td>\n",
       "      <td>하락  2,300</td>\n",
       "      <td>77300.0</td>\n",
       "      <td>77500.0</td>\n",
       "      <td>76300.0</td>\n",
       "      <td>15549134.0</td>\n",
       "    </tr>\n",
       "    <tr>\n",
       "      <th>4</th>\n",
       "      <td>2024.04.24</td>\n",
       "      <td>78600.0</td>\n",
       "      <td>상승  3,100</td>\n",
       "      <td>77500.0</td>\n",
       "      <td>78800.0</td>\n",
       "      <td>77200.0</td>\n",
       "      <td>22166150.0</td>\n",
       "    </tr>\n",
       "  </tbody>\n",
       "</table>\n",
       "</div>"
      ],
      "text/plain": [
       "           날짜       종가        전일비       시가       고가       저가         거래량\n",
       "0         NaN      NaN        NaN      NaN      NaN      NaN         NaN\n",
       "1  2024.04.29  76700.0        보합0  77400.0  77600.0  76200.0  14249224.0\n",
       "2  2024.04.26  76700.0    상승  400  77800.0  77900.0  76500.0  12755629.0\n",
       "3  2024.04.25  76300.0  하락  2,300  77300.0  77500.0  76300.0  15549134.0\n",
       "4  2024.04.24  78600.0  상승  3,100  77500.0  78800.0  77200.0  22166150.0"
      ]
     },
     "execution_count": 91,
     "metadata": {},
     "output_type": "execute_result"
    }
   ],
   "source": [
    "from bs4 import BeautifulSoup\n",
    "import requests #웹페이지 - 파이썬 통신 모듈\n",
    "\n",
    "#웹 크롤링 방법\n",
    "\n",
    "code = '005930' #네이버 주식이 제공하는 삼성전자 종목코드\n",
    "url = 'https://finance.naver.com/item/sise_day.naver?code={}'.format(code)\n",
    "#위 URL은 네이버 주식 검색해서 들어가면 나오는 코드임\n",
    "\n",
    "header = {'User-agent':'Mozilla/5.0'}\n",
    "req = requests.get(url, headers=header)\n",
    "html = BeautifulSoup(req.text, 'lxml')  #여기까지 수행하면 '오늘자' 데이터만 나옴\n",
    "\n",
    "# 페이지 전체 HTML 출력\n",
    "# print(html.prettify())\n",
    "\n",
    "pgrr = html.find('td', class_='pgRR')\n",
    "s = pgrr.a['href'].split('=')\n",
    "last_page = s[-1]\n",
    "\n",
    "#데이터셋 구성하기\n",
    "df = None\n",
    "\n",
    "for page in tqdm(range(1, 100)): #이걸 해줘야 옛날 데이터도 다 긁어옴\n",
    "    req = requests.get('{}&page={}'.format(url, page), headers=header)\n",
    "    df = pd.concat([df, pd.read_html(req.text, encoding='euc-kr')[0]], ignore_index=True)\n",
    "\n",
    "df.head()"
   ]
  },
  {
   "cell_type": "code",
   "execution_count": 92,
   "metadata": {},
   "outputs": [
    {
     "name": "stdout",
     "output_type": "stream",
     "text": [
      "           Date    Close     Open     High      Low      Amount\n",
      "980  2024.04.16  80000.0  81200.0  81300.0  79400.0  31949845.0\n",
      "981  2024.04.17  78900.0  80700.0  80800.0  78900.0  22611631.0\n",
      "982  2024.04.18  79600.0  78800.0  80100.0  78300.0  21370190.0\n",
      "983  2024.04.19  77600.0  78300.0  78700.0  76300.0  31317563.0\n",
      "984  2024.04.22  76100.0  77400.0  77500.0  75100.0  30469477.0\n",
      "985  2024.04.23  75500.0  76400.0  76800.0  75500.0  18717699.0\n",
      "986  2024.04.24  78600.0  77500.0  78800.0  77200.0  22166150.0\n",
      "987  2024.04.25  76300.0  77300.0  77500.0  76300.0  15549134.0\n",
      "988  2024.04.26  76700.0  77800.0  77900.0  76500.0  12755629.0\n",
      "989  2024.04.29  76700.0  77400.0  77600.0  76200.0  14249224.0\n",
      "(990, 6)\n"
     ]
    }
   ],
   "source": [
    "#위 긁어온 데이터를 전처리 해주자 (한글 삭제)\n",
    "\n",
    "df.dropna(inplace=True)\n",
    "\n",
    "#컬럼명 변경하기\n",
    "df.columns = [\"Date\", \"Close\", \"Gap\", \"Open\", \"High\", \"Low\", \"Amount\"]\n",
    "\n",
    "#필요없는 칼럼(전일비)는 제거하기\n",
    "df.drop([\"Gap\"], axis=1, inplace=True)\n",
    "\n",
    "#데이터 시간순으로 정렬하기\n",
    "df.sort_values([\"Date\"], inplace=True) #데이터를 오름차순으로 정렬\n",
    "df.reset_index(drop=True, inplace=True)\n",
    "\n",
    "print(df.tail(10))#오름차순 정렬이니 맨 앞 데이터는 오래된 데이터임\n",
    "print(df.shape)"
   ]
  },
  {
   "cell_type": "code",
   "execution_count": 93,
   "metadata": {},
   "outputs": [
    {
     "name": "stdout",
     "output_type": "stream",
     "text": [
      "           Date    Close     Open     High      Low      Amount\n",
      "980  2024.04.16  80000.0  81200.0  81300.0  79400.0  31949845.0\n",
      "981  2024.04.17  78900.0  80700.0  80800.0  78900.0  22611631.0\n",
      "982  2024.04.18  79600.0  78800.0  80100.0  78300.0  21370190.0\n",
      "983  2024.04.19  77600.0  78300.0  78700.0  76300.0  31317563.0\n",
      "984  2024.04.22  76100.0  77400.0  77500.0  75100.0  30469477.0\n",
      "           Date    Close     Open     High      Low      Amount\n",
      "985  2024.04.23  75500.0  76400.0  76800.0  75500.0  18717699.0\n",
      "986  2024.04.24  78600.0  77500.0  78800.0  77200.0  22166150.0\n",
      "987  2024.04.25  76300.0  77300.0  77500.0  76300.0  15549134.0\n",
      "988  2024.04.26  76700.0  77800.0  77900.0  76500.0  12755629.0\n",
      "989  2024.04.29  76700.0  77400.0  77600.0  76200.0  14249224.0\n"
     ]
    },
    {
     "name": "stderr",
     "output_type": "stream",
     "text": [
      "C:\\Users\\Z13_ASH\\AppData\\Local\\Temp\\ipykernel_21128\\3644193120.py:11: SettingWithCopyWarning: \n",
      "A value is trying to be set on a copy of a slice from a DataFrame\n",
      "\n",
      "See the caveats in the documentation: https://pandas.pydata.org/pandas-docs/stable/user_guide/indexing.html#returning-a-view-versus-a-copy\n",
      "  train_df.drop([\"Date\"], axis=1, inplace=True)\n"
     ]
    }
   ],
   "source": [
    "#훈련용, 학습용 데이터로 분리하기\n",
    "div_idx = len(df) - 5 #데이터에서 가장 마지막 5개 데이터로 분리할거임\n",
    "\n",
    "train_df = df.loc[:div_idx-1]\n",
    "test_df = df.loc[div_idx:]\n",
    "\n",
    "print(train_df.tail())\n",
    "print(test_df)\n",
    "\n",
    "#훈련 데이터에서 idx랑 data는 기능이 겹치니 삭제?\n",
    "train_df.drop([\"Date\"], axis=1, inplace=True)\n",
    "\n",
    "#스케일링 작업 수행\n",
    "scaler = StandardScaler()\n",
    "scaler.fit(train_df)\n",
    "\n",
    "s_train_df = scaler.transform(train_df)\n",
    "s_test_df = scaler.transform(test_df.drop([\"Date\"], axis=1))"
   ]
  },
  {
   "cell_type": "markdown",
   "metadata": {},
   "source": [
    "위에서 정리한 데이터는 말 그대로 1차 전처리임</br>\n",
    "학습이 가능하게끔 학습용 dataset(텐서자료형)으로 2차 전처리"
   ]
  },
  {
   "cell_type": "code",
   "execution_count": 94,
   "metadata": {},
   "outputs": [
    {
     "name": "stdout",
     "output_type": "stream",
     "text": [
      "torch.Size([30, 5])\n",
      "torch.Size([5])\n",
      "30\n"
     ]
    }
   ],
   "source": [
    "#입출력 차원 정의(define the window size) -> 슬라이딩 윈도우 쓴다 보면 됨...\n",
    "input_window = 30 #30개씩 sequences 데이터가 들어갈거\n",
    "output_window = 5 #출력하는건 sequence 데이터가 5개\n",
    "\n",
    "#데이터셋 생성\n",
    "data = torch.tensor(s_train_df, dtype=torch.float32)\n",
    "target = torch.tensor(s_train_df.T[0], dtype=torch.float32)\n",
    "#target는 평가용 데이터에서 Close데이터를 타겟이니 T[0]이 붙음\n",
    "#그냥 명확하게 'close'를 사요하자\n",
    "\n",
    "#시계열 데이터(입력/출력) 변수 만들기\n",
    "X, Y = [], []\n",
    "for i in range(len(data) - input_window - output_window + 1):\n",
    "    a = i + input_window\n",
    "    b = i + input_window + output_window\n",
    "    X.append(data[i:a])\n",
    "    Y.append(target[a:b])\n",
    "\n",
    "#텐서 데이터셋 생성\n",
    "dataset = TensorDataset(torch.stack(X), torch.stack(Y))\n",
    "print(dataset[0][0].shape) #30일짜리 seq_size, inputsize는 (close, open, high, low amount) 5개 칼럼\n",
    "print(dataset[0][1].shape) #출력데이터는 30일짜리(seq) close 단하나\n",
    "\n",
    "#데이터로더 생성\n",
    "dataloader = DataLoader(dataset, batch_size=32, shuffle=True)\n",
    "\n",
    "#생성된 데이터로더의 길이 확인\n",
    "print(len(dataloader))\n"
   ]
  },
  {
   "cell_type": "markdown",
   "metadata": {},
   "source": [
    "## LSTM Net 만들고 학습시키기"
   ]
  },
  {
   "cell_type": "code",
   "execution_count": 95,
   "metadata": {},
   "outputs": [],
   "source": [
    "#모델 설계\n",
    "\n",
    "class My_Forecasting_Model(nn.Module):\n",
    "    def __init__(self, input_size, hidden_size, output_size):\n",
    "        super(My_Forecasting_Model, self).__init__()\n",
    "\n",
    "        self.input_size = input_size\n",
    "        self.hidden_size = hidden_size\n",
    "        self.output_size = output_size\n",
    "\n",
    "        #LSTM레이어 설계\n",
    "        self.lstm = nn.LSTM(input_size, hidden_size, batch_first=True)\n",
    "        self.fc1 = nn.Linear(hidden_size, hidden_size//2)\n",
    "        self.fc2 = nn.Linear(hidden_size//2, output_size)\n",
    "\n",
    "        #전사과정 설계\n",
    "    def forward(self, x):\n",
    "        output, (hidden_output, cell_output) = self.lstm(x)\n",
    "        hidden_output = hidden_output.view(-1, self.hidden_size)\n",
    "        \n",
    "        out = self.fc1(hidden_output)\n",
    "        out = F.relu(out)\n",
    "\n",
    "        out = self.fc2(out)\n",
    "\n",
    "        return out\n",
    "        \n",
    "\n",
    "ex_model = My_Forecasting_Model(input_size=5, hidden_size=30, output_size=5)"
   ]
  },
  {
   "cell_type": "markdown",
   "metadata": {},
   "source": [
    "### 훈련 시작"
   ]
  },
  {
   "cell_type": "code",
   "execution_count": 96,
   "metadata": {},
   "outputs": [
    {
     "name": "stdout",
     "output_type": "stream",
     "text": [
      "cuda\n",
      "My_Forecasting_Model(\n",
      "  (lstm): LSTM(5, 30, batch_first=True)\n",
      "  (fc1): Linear(in_features=30, out_features=15, bias=True)\n",
      "  (fc2): Linear(in_features=15, out_features=5, bias=True)\n",
      ")\n",
      "cuda:0\n"
     ]
    }
   ],
   "source": [
    "#GPU로 이전해야 할것들 다 이전하기\n",
    "\n",
    "#GPU사용 가능 확인하기\n",
    "device = torch.device('cuda' if torch.cuda.is_available() else 'cpu')\n",
    "print(device)\n",
    "\n",
    "#모델 GPU로 보내기\n",
    "print(ex_model.to(device))\n",
    "#모델 파라미터가 GPU에 들어갓는지 확인\n",
    "print(next(ex_model.parameters()).device)\n",
    "\n",
    "#로스 함수 및 옵티마이저 선언\n",
    "optimizer = torch.optim.Adam(ex_model.parameters(), lr=0.001)\n",
    "criterion = nn.MSELoss()"
   ]
  },
  {
   "cell_type": "code",
   "execution_count": 97,
   "metadata": {},
   "outputs": [
    {
     "name": "stderr",
     "output_type": "stream",
     "text": [
      " 10%|█         | 10/100 [00:01<00:08, 10.50it/s]"
     ]
    },
    {
     "name": "stdout",
     "output_type": "stream",
     "text": [
      "에포크 : 10/100, 이터레이션 : 16/30, 로스값 : 0.0256\n"
     ]
    },
    {
     "name": "stderr",
     "output_type": "stream",
     "text": [
      " 20%|██        | 20/100 [00:02<00:07, 10.48it/s]"
     ]
    },
    {
     "name": "stdout",
     "output_type": "stream",
     "text": [
      "에포크 : 20/100, 이터레이션 : 16/30, 로스값 : 0.0274\n"
     ]
    },
    {
     "name": "stderr",
     "output_type": "stream",
     "text": [
      " 30%|███       | 30/100 [00:02<00:06, 10.58it/s]"
     ]
    },
    {
     "name": "stdout",
     "output_type": "stream",
     "text": [
      "에포크 : 30/100, 이터레이션 : 16/30, 로스값 : 0.0193\n"
     ]
    },
    {
     "name": "stderr",
     "output_type": "stream",
     "text": [
      " 40%|████      | 40/100 [00:03<00:05, 10.55it/s]"
     ]
    },
    {
     "name": "stdout",
     "output_type": "stream",
     "text": [
      "에포크 : 40/100, 이터레이션 : 16/30, 로스값 : 0.0215\n"
     ]
    },
    {
     "name": "stderr",
     "output_type": "stream",
     "text": [
      " 50%|█████     | 50/100 [00:04<00:04, 10.50it/s]"
     ]
    },
    {
     "name": "stdout",
     "output_type": "stream",
     "text": [
      "에포크 : 50/100, 이터레이션 : 16/30, 로스값 : 0.0239\n"
     ]
    },
    {
     "name": "stderr",
     "output_type": "stream",
     "text": [
      " 60%|██████    | 60/100 [00:05<00:03, 10.40it/s]"
     ]
    },
    {
     "name": "stdout",
     "output_type": "stream",
     "text": [
      "에포크 : 60/100, 이터레이션 : 16/30, 로스값 : 0.0193\n"
     ]
    },
    {
     "name": "stderr",
     "output_type": "stream",
     "text": [
      " 70%|███████   | 70/100 [00:06<00:02, 10.59it/s]"
     ]
    },
    {
     "name": "stdout",
     "output_type": "stream",
     "text": [
      "에포크 : 70/100, 이터레이션 : 16/30, 로스값 : 0.0192\n"
     ]
    },
    {
     "name": "stderr",
     "output_type": "stream",
     "text": [
      " 80%|████████  | 80/100 [00:07<00:02,  8.96it/s]"
     ]
    },
    {
     "name": "stdout",
     "output_type": "stream",
     "text": [
      "에포크 : 80/100, 이터레이션 : 16/30, 로스값 : 0.0166\n"
     ]
    },
    {
     "name": "stderr",
     "output_type": "stream",
     "text": [
      " 91%|█████████ | 91/100 [00:09<00:00,  9.02it/s]"
     ]
    },
    {
     "name": "stdout",
     "output_type": "stream",
     "text": [
      "에포크 : 90/100, 이터레이션 : 16/30, 로스값 : 0.0167\n"
     ]
    },
    {
     "name": "stderr",
     "output_type": "stream",
     "text": [
      "100%|██████████| 100/100 [00:10<00:00,  9.93it/s]"
     ]
    },
    {
     "name": "stdout",
     "output_type": "stream",
     "text": [
      "에포크 : 100/100, 이터레이션 : 16/30, 로스값 : 0.0154\n"
     ]
    },
    {
     "name": "stderr",
     "output_type": "stream",
     "text": [
      "\n"
     ]
    }
   ],
   "source": [
    "#훈련 코드 작성\n",
    "\n",
    "num_epoch = 100\n",
    "lossess = []\n",
    "\n",
    "for epoch in tqdm(range(num_epoch)):\n",
    "    for i, (inputs, labels) in enumerate(dataloader):\n",
    "        inputs = inputs.to(device)\n",
    "        labels = labels.to(device)\n",
    "\n",
    "        #전사과정\n",
    "        outputs = ex_model(inputs)\n",
    "        loss = criterion(outputs, labels)\n",
    "\n",
    "        lossess.append(loss.item()) #로스값 저장하기\n",
    "\n",
    "        optimizer.zero_grad() #옵티마이저 초기화\n",
    "\n",
    "        #백프로파게이션\n",
    "        loss.backward()\n",
    "        optimizer.step() #모델 파라미터 업데이트\n",
    "\n",
    "        #중간중간 데이터 출력\n",
    "        if (epoch+1) % 10 == 0 and (i % 15 == 0 and i > 1): #10 에포크 + 스탭은 절반 지낫을 때\n",
    "            print(f\"에포크 : {epoch+1}/{num_epoch}, 이터레이션 : {i+1}/{len(dataloader)}, 로스값 : {loss.item():.4f}\")\n",
    "        \n"
   ]
  },
  {
   "cell_type": "markdown",
   "metadata": {},
   "source": [
    "## Loss값을 시각화 해보기"
   ]
  },
  {
   "cell_type": "code",
   "execution_count": 98,
   "metadata": {},
   "outputs": [
    {
     "name": "stderr",
     "output_type": "stream",
     "text": [
      "c:\\Users\\Z13_ASH\\AppData\\Local\\Programs\\Python\\Python38\\lib\\site-packages\\IPython\\core\\pylabtools.py:152: UserWarning: Glyph 51060 (\\N{HANGUL SYLLABLE I}) missing from current font.\n",
      "  fig.canvas.print_figure(bytes_io, **kw)\n",
      "c:\\Users\\Z13_ASH\\AppData\\Local\\Programs\\Python\\Python38\\lib\\site-packages\\IPython\\core\\pylabtools.py:152: UserWarning: Glyph 53552 (\\N{HANGUL SYLLABLE TEO}) missing from current font.\n",
      "  fig.canvas.print_figure(bytes_io, **kw)\n",
      "c:\\Users\\Z13_ASH\\AppData\\Local\\Programs\\Python\\Python38\\lib\\site-packages\\IPython\\core\\pylabtools.py:152: UserWarning: Glyph 47112 (\\N{HANGUL SYLLABLE RE}) missing from current font.\n",
      "  fig.canvas.print_figure(bytes_io, **kw)\n",
      "c:\\Users\\Z13_ASH\\AppData\\Local\\Programs\\Python\\Python38\\lib\\site-packages\\IPython\\core\\pylabtools.py:152: UserWarning: Glyph 49496 (\\N{HANGUL SYLLABLE SYEON}) missing from current font.\n",
      "  fig.canvas.print_figure(bytes_io, **kw)\n",
      "c:\\Users\\Z13_ASH\\AppData\\Local\\Programs\\Python\\Python38\\lib\\site-packages\\IPython\\core\\pylabtools.py:152: UserWarning: Glyph 47196 (\\N{HANGUL SYLLABLE RO}) missing from current font.\n",
      "  fig.canvas.print_figure(bytes_io, **kw)\n",
      "c:\\Users\\Z13_ASH\\AppData\\Local\\Programs\\Python\\Python38\\lib\\site-packages\\IPython\\core\\pylabtools.py:152: UserWarning: Glyph 49828 (\\N{HANGUL SYLLABLE SEU}) missing from current font.\n",
      "  fig.canvas.print_figure(bytes_io, **kw)\n",
      "c:\\Users\\Z13_ASH\\AppData\\Local\\Programs\\Python\\Python38\\lib\\site-packages\\IPython\\core\\pylabtools.py:152: UserWarning: Glyph 44050 (\\N{HANGUL SYLLABLE GABS}) missing from current font.\n",
      "  fig.canvas.print_figure(bytes_io, **kw)\n"
     ]
    },
    {
     "data": {
      "image/png": "[encoded data removed]",
      "text/plain": [
       "<Figure size 640x480 with 1 Axes>"
      ]
     },
     "metadata": {},
     "output_type": "display_data"
    }
   ],
   "source": [
    "import matplotlib.pyplot as plt\n",
    "\n",
    "plt.plot(lossess)\n",
    "plt.xlabel('이터레이션')\n",
    "plt.ylabel('로스값')\n",
    "plt.show()"
   ]
  },
  {
   "cell_type": "code",
   "execution_count": 105,
   "metadata": {},
   "outputs": [
    {
     "name": "stdout",
     "output_type": "stream",
     "text": [
      "스케일링된 실제 값 :  ['0.7312', '1.0611', '0.8163', '0.8589', '0.8589']\n",
      "스케일링된 예측 값 :  ['1.0147', '1.1191', '1.1803', '1.2788', '1.3606']\n",
      "실제 주식 :  [75500, 78600, 76300, 76700, 76700]\n",
      "예측 주식 :  [78164, 79145, 79720, 80645, 81413]\n",
      "오차는?(RMSE) :  3372.41\n"
     ]
    }
   ],
   "source": [
    "#마지막 모델 평가부분\n",
    "\n",
    "y_real = s_test_df.T[0]\n",
    "print('스케일링된 실제 값 : ', [format(x, \".4f\") for x in y_real])\n",
    "\n",
    "input = torch.tensor(s_train_df[-30:], dtype=torch.float32)\n",
    "y_pred = ex_model(input.to(device)).detach().cpu().squeeze().numpy()\n",
    "print('스케일링된 예측 값 : ', [format(x, \".4f\") for x in y_pred])\n",
    "\n",
    "\n",
    "#스케일링 된 값을 원복하기\n",
    "inv_trans_y_real = scaler.inverse_transform(s_test_df).T[0]\n",
    "inv_trans_y_real = [round(x) for x in inv_trans_y_real]\n",
    "print(\"실제 주식 : \", inv_trans_y_real)\n",
    "\n",
    "inv_trans_y_pred = y_pred * np.sqrt(scaler.var_[0]) + scaler.mean_[0]\n",
    "inv_trans_y_pred = [round(x) for x in inv_trans_y_pred]\n",
    "print(\"예측 주식 : \", inv_trans_y_pred)\n",
    "\n",
    "#RMSE구하기\n",
    "rmse = np.sqrt(mean_squared_error(inv_trans_y_pred, inv_trans_y_real))\n",
    "\n",
    "print(\"오차는?(RMSE) : \", format(rmse, \".2f\"))\n"
   ]
  }
 ],
 "metadata": {
  "kernelspec": {
   "display_name": "Python 3",
   "language": "python",
   "name": "python3"
  },
  "language_info": {
   "codemirror_mode": {
    "name": "ipython",
    "version": 3
   },
   "file_extension": ".py",
   "mimetype": "text/x-python",
   "name": "python",
   "nbconvert_exporter": "python",
   "pygments_lexer": "ipython3",
   "version": "3.8.10"
  }
 },
 "nbformat": 4,
 "nbformat_minor": 2
}
